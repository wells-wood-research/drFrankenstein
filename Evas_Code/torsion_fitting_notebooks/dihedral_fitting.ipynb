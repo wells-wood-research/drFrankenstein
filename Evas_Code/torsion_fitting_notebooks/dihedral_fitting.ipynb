{
 "cells": [
  {
   "cell_type": "code",
   "execution_count": null,
   "metadata": {},
   "outputs": [],
   "source": [
    "import numpy as np\n",
    "import matplotlib.pyplot as plt\n",
    "from itertools import product\n",
    "from typing import List\n",
    "from sklearn.metrics import mean_squared_error\n",
    "from sklearn.metrics import r2_score\n",
    "from scipy.stats import pearsonr\n",
    "from scipy.stats import spearmanr\n",
    "from scipy.stats import chisquare"
   ]
  },
  {
   "cell_type": "code",
   "execution_count": null,
   "metadata": {},
   "outputs": [],
   "source": [
    "def dihedral_term(phi, n, phase, k=1):\n",
    "    \"\"\"\n",
    "    Dihedral term in the dihedral potential.\n",
    "\n",
    "    Parameters\n",
    "    ----------\n",
    "    phi : float\n",
    "        Dihedral angle\n",
    "    n : int\n",
    "        Periodicity of the dihedral potential\n",
    "    phase : float\n",
    "        Phase of the dihedral potential\n",
    "    k : float\n",
    "        Force constant of the dihedral potential.\n",
    "    \n",
    "    Returns\n",
    "    -------\n",
    "    float\n",
    "        Value of the dihedral term at phi\n",
    "    \"\"\"\n",
    "    return k*(1+np.cos(n*phi - phase))"
   ]
  },
  {
   "cell_type": "code",
   "execution_count": null,
   "metadata": {},
   "outputs": [],
   "source": [
    "def V(phi: float, period: List[int], phases: List[float], force_const: List[float] = None ) -> float:\n",
    "    \"\"\"\n",
    "    Proper dihedral potential.\n",
    "\n",
    "    Parameters\n",
    "    ----------\n",
    "    phi : float\n",
    "        Dihedral angle\n",
    "    period : List[int]\n",
    "        Period of the dihedral potential\n",
    "    phase : List[float]\n",
    "        Phase of the dihedral potential\n",
    "    force_const : List[float]\n",
    "        Force constants of the dihedral potential. If None, all force constants are set to 1.\n",
    "    \n",
    "    Returns\n",
    "    -------\n",
    "    float\n",
    "        Value of the dihedral potential at phi\n",
    "    \"\"\"\n",
    "    if force_const is None:\n",
    "        force_const = [1 for _ in period]\n",
    "\n",
    "    assert len(period) == len(phases), \"n and phase must have the same length\"\n",
    "    assert len(period) == len(force_const), \"n and force_const must have the same length\"\n",
    "\n",
    "    dihedral_pot = 0\n",
    "    for n, phase, k in zip(period, phases, force_const):\n",
    "        dihedral_pot += dihedral_term(phi, n, phase, k)\n",
    "\n",
    "    return dihedral_pot"
   ]
  },
  {
   "cell_type": "code",
   "execution_count": null,
   "metadata": {},
   "outputs": [],
   "source": [
    "dihedral = \"1234\"\n",
    "seed_no = 4\n",
    "fragment = 5"
   ]
  },
  {
   "cell_type": "code",
   "execution_count": null,
   "metadata": {},
   "outputs": [],
   "source": [
    "import numpy as np\n",
    "from itertools import product\n",
    "\n",
    "phases = [0, np.pi]\n",
    "\n",
    "# Initialize lists to store all combinations\n",
    "all_combinations = []\n",
    "force_constants = [1]\n",
    "\n",
    "# Iterate over the number of periods and phases\n",
    "for num_periods, num_phases in product(range(1, 4), repeat=2):  # Start from 1 and extend to ...\n",
    "    if num_periods >= num_phases:  # Ensure num_periods >= num_phases\n",
    "        # Generate all combinations of phases for the current number of phases\n",
    "        phase_combinations = product(phases, repeat=num_phases)\n",
    "        for phase_combo in phase_combinations:\n",
    "            # Ensure the length of the first list is equal to the length of the tuple and the last list\n",
    "            if len(phase_combo) == num_periods and len(force_constants) == num_periods:\n",
    "                all_combinations.append((list(range(1, num_periods + 1)), phase_combo, force_constants[:num_periods]))\n",
    "\n",
    "        # Update force_constants when the number of periods changes\n",
    "        if num_periods > len(force_constants):\n",
    "            force_constants.append(1)\n"
   ]
  },
  {
   "cell_type": "code",
   "execution_count": null,
   "metadata": {},
   "outputs": [],
   "source": [
    "forward = np.arange(-180,190,10).tolist()\n",
    "forward.remove(-180) # -180 never gets scanned\n",
    "\n",
    "mse_list = []\n",
    "k_list = []\n",
    "\n",
    "phi = []\n",
    "for i in forward:\n",
    "    phi.append(i*np.pi/180.0)\n",
    "\n",
    "for combination in all_combinations:\n",
    "    period =  combination[0]\n",
    "    phases = combination[1]\n",
    "    force_const = combination[2]\n",
    "\n",
    "    # this is the QM data minus the array saved in Sire energy decomposition (QM - (MM_total - MM_torsion))\n",
    "    Vref = np.load('./profiles_torsions/individual_conformer_scans/fragment%s/torsion%s/qm-mm_torsion%s_seed%s.npy' % (fragment, dihedral, dihedral, seed_no))\n",
    "    \n",
    "    # Fit the dihedral potential to the reference potential\n",
    "    b = np.asarray(Vref).reshape(-1, 1)\n",
    "    a = np.zeros((len(phi), len(period)))\n",
    "    for i, p in enumerate(phi):\n",
    "        for j, n in enumerate(period):\n",
    "            a[i, j] = dihedral_term(p, n, phases[j], 1) # force constant is set to 1 because we are fitting it\n",
    "\n",
    "    # Solve the linear system\n",
    "    k = np.linalg.inv(a.T @ a) @ a.T @ b\n",
    "    k_list.append(k)\n",
    "\n",
    "    mse = mean_squared_error(Vref, a@k)\n",
    "    mse_list.append(mse)\n",
    "    \n",
    "    # Plot the dihedral potential (all possible solutions for given number of periods)\n",
    "    plt.plot(phi, Vref, 'o', label=\"Residual potential\")\n",
    "    plt.plot(phi, a @ k, label=\"Fitted potential\")\n",
    "    plt.title('Periodicity %s - Phases %s - MSE %s' % (combination[0][-1], list(combination[1]), round(mse,3)))\n",
    "    plt.xlabel(\"Dihedral angle (rad)\")\n",
    "    plt.ylabel(\"Dihedral potential (kcal/mol)\")\n",
    "    plt.legend()\n",
    "    plt.show()"
   ]
  },
  {
   "cell_type": "code",
   "execution_count": null,
   "metadata": {},
   "outputs": [],
   "source": [
    "min(mse_list)"
   ]
  },
  {
   "cell_type": "code",
   "execution_count": null,
   "metadata": {},
   "outputs": [],
   "source": [
    "min_index = mse_list.index(min(mse_list))"
   ]
  },
  {
   "cell_type": "code",
   "execution_count": null,
   "metadata": {},
   "outputs": [],
   "source": [
    "all_combinations[min_index][:-1]"
   ]
  },
  {
   "cell_type": "code",
   "execution_count": null,
   "metadata": {},
   "outputs": [],
   "source": [
    "k_list[min_index]"
   ]
  },
  {
   "cell_type": "code",
   "execution_count": null,
   "metadata": {},
   "outputs": [],
   "source": [
    "desired_index = mse_list.index(min(mse_list))\n",
    "desired_index # or some other index as the min MSE doesn't always give the best solution"
   ]
  },
  {
   "cell_type": "code",
   "execution_count": null,
   "metadata": {},
   "outputs": [],
   "source": [
    "all_combinations[desired_index][:-1]\n",
    "k_list[desired_index]"
   ]
  },
  {
   "cell_type": "code",
   "execution_count": null,
   "metadata": {},
   "outputs": [],
   "source": [
    "# prepare periods, phases, k for plotting\n",
    "\n",
    "fitted_periods = all_combinations[desired_index][:-1][0]\n",
    "fitted_phases = all_combinations[desired_index][:-1][1]\n",
    "print(fitted_periods, fitted_phases)"
   ]
  },
  {
   "cell_type": "code",
   "execution_count": null,
   "metadata": {},
   "outputs": [],
   "source": [
    "fitted_k = []\n",
    "\n",
    "for i in k_list[desired_index]:\n",
    "    fitted_k.append(i.tolist()[0])\n",
    "\n",
    "fitted_k"
   ]
  },
  {
   "cell_type": "code",
   "execution_count": null,
   "metadata": {},
   "outputs": [],
   "source": [
    "# if one of the k's is negative we can invert its phase to keep the same shape\n",
    "# e.g. if the k for the 1st period is -0.111 and has phase 0, we can use a k of 0.111 with a phase of np.pi"
   ]
  },
  {
   "cell_type": "code",
   "execution_count": null,
   "metadata": {},
   "outputs": [],
   "source": [
    "\n",
    "forward = np.arange(-180,190,10).tolist()\n",
    "forward.remove(-180)\n",
    "\n",
    "phi = []\n",
    "for i in forward:\n",
    "    phi.append(i*np.pi/180.0)\n",
    "\n",
    "period = fitted_periods\n",
    "phases = fitted_phases\n",
    "force_const = fitted_k\n",
    "\n",
    "Vfit = [V(p, period, phases, force_const) for p in phi]\n",
    "\n",
    "Vref = np.load('./profiles_torsions/individual_conformer_scans/fragment%s/torsion%s/qm-mm_torsion%s_seed%s.npy' % (fragment, dihedral, dihedral, seed_no))\n",
    "# Plot the dihedral potential\n",
    "plt.plot(phi, Vref, 'o', label=\"Residual potential\")\n",
    "plt.plot(phi, Vfit - min(Vfit), label=\"Fitted potential\")\n",
    "plt.xlabel(\"Dihedral angle (rad)\")\n",
    "plt.ylabel(\"Dihedral potential (kcal/mol)\")\n",
    "plt.legend()\n",
    "plt.savefig('./profiles_torsions/individual_conformer_scans/fragment%s/torsion%s/qm-mm_torsion%s_seed%s_fitting.png' % (fragment, dihedral, dihedral, seed_no))\n",
    "plt.show()\n"
   ]
  },
  {
   "cell_type": "code",
   "execution_count": null,
   "metadata": {},
   "outputs": [],
   "source": [
    "# once the k's are found, the respective torsion in the frcmod will need to be updated (periods, k, phases)\n",
    "# if the torsion being fitted has some multiplicity other than 1 (the number in the first column of the frcmod e.g. 4, 6, 9), \n",
    "# the k's from the fitting need to be multipled with that number in the frcmod file"
   ]
  }
 ],
 "metadata": {
  "kernelspec": {
   "display_name": "base",
   "language": "python",
   "name": "python3"
  },
  "language_info": {
   "codemirror_mode": {
    "name": "ipython",
    "version": 3
   },
   "file_extension": ".py",
   "mimetype": "text/x-python",
   "name": "python",
   "nbconvert_exporter": "python",
   "pygments_lexer": "ipython3",
   "version": "3.9.12"
  }
 },
 "nbformat": 4,
 "nbformat_minor": 2
}
