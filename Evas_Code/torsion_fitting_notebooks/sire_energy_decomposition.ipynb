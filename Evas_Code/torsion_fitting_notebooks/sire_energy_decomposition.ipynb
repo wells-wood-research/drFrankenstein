{
 "cells": [
  {
   "cell_type": "code",
   "execution_count": null,
   "metadata": {},
   "outputs": [],
   "source": [
    "import sire as sr\n",
    "import glob\n",
    "import numpy as np\n",
    "import matplotlib.pyplot as plt"
   ]
  },
  {
   "cell_type": "code",
   "execution_count": null,
   "metadata": {},
   "outputs": [],
   "source": [
    "dihedral = \"1234\"\n",
    "seed_no = 4\n",
    "fragment = 5"
   ]
  },
  {
   "cell_type": "code",
   "execution_count": null,
   "metadata": {},
   "outputs": [],
   "source": [
    "n_confs = 500 # number of conformers scanned"
   ]
  },
  {
   "cell_type": "code",
   "execution_count": null,
   "metadata": {},
   "outputs": [],
   "source": [
    "idx1 = dihedral[0] # will need to change to automatically parse torsion idx\n",
    "idx2 = dihedral[1]\n",
    "idx3 = dihedral[2]\n",
    "idx4 = dihedral[3] "
   ]
  },
  {
   "cell_type": "code",
   "execution_count": null,
   "metadata": {},
   "outputs": [],
   "source": [
    "forward = np.arange(-180,190,10).tolist()"
   ]
  },
  {
   "cell_type": "code",
   "execution_count": null,
   "metadata": {},
   "outputs": [],
   "source": [
    "energies_per_dihedral = []"
   ]
  },
  {
   "cell_type": "code",
   "execution_count": null,
   "metadata": {},
   "outputs": [],
   "source": [
    "conf_numbers = np.arange(0,n_confs-1).tolist() # update to use conformers number when the dihedral is specified"
   ]
  },
  {
   "cell_type": "code",
   "execution_count": null,
   "metadata": {},
   "outputs": [],
   "source": [
    "energies_per_dihedral = []\n",
    "\n",
    "for dihe in forward:\n",
    "    print('Calculating MM energies for ', dihe, 'degrees')\n",
    "    mm_energies = []\n",
    "    file_patterns_prmtop = ['../profiles_torsions/optimised_geometries/fragment%s/torsion%s/torsion%s_seed%s_conf%s_dihe_%s*_resp_charges_atomtypes_renamed.mol2.prmtop' % (fragment, dihedral, dihedral, seed_no, conf, dihe) for conf in conf_numbers]\n",
    "    file_patterns_inpcrd = ['../profiles_torsions/optimised_geometries/fragment%s/torsion%s/torsion%s_seed%s_conf%s_dihe_%s*_resp_charges_atomtypes_renamed.mol2.inpcrd' % (fragment, dihedral, dihedral, seed_no, conf, dihe) for conf in conf_numbers]\n",
    "\n",
    "    file_list_prmtop = []\n",
    "    file_list_inpcrd = []\n",
    "\n",
    "    # Iterate through file patterns and find matching files\n",
    "    for pattern_prmtop, pattern_inpcrd in zip(file_patterns_prmtop, file_patterns_inpcrd):\n",
    "        file_list_prmtop.extend(glob.glob(pattern_prmtop))\n",
    "        file_list_inpcrd.extend(glob.glob(pattern_inpcrd))\n",
    "    \n",
    "    for fle in file_list_inpcrd:\n",
    "        mol = sr.load(file_list_prmtop[0], fle)\n",
    "        torsion = mol.dihedrals(f\"atomnum {idx1}\", f\"atomnum {idx2}\", f\"atomnum {idx3}\", f\"atomnum {idx4}\")\n",
    "        mm_energies.append(mol.energy().value()-torsion.energy().value()) # energies in kcal/mol \n",
    "    #print(mm_energies)\n",
    "    energies_per_dihedral.append(mm_energies)\n",
    "\n",
    "#print(energies_per_dihedral)"
   ]
  },
  {
   "cell_type": "code",
   "execution_count": null,
   "metadata": {},
   "outputs": [],
   "source": [
    "torsion = mol.dihedrals(f\"atomnum {idx1}\", f\"atomnum {idx2}\", f\"atomnum {idx3}\", f\"atomnum {idx4}\")\n",
    "torsion.potentials() # this shows us the current GAFF2 expression for the torsion"
   ]
  },
  {
   "cell_type": "code",
   "execution_count": null,
   "metadata": {},
   "outputs": [],
   "source": [
    "energies_per_dihedral"
   ]
  },
  {
   "cell_type": "code",
   "execution_count": null,
   "metadata": {},
   "outputs": [],
   "source": [
    "# check if values for 180 and -180 are missing\n",
    "assert energies_per_dihedral[0] == []\n"
   ]
  },
  {
   "cell_type": "code",
   "execution_count": null,
   "metadata": {},
   "outputs": [],
   "source": [
    "assert energies_per_dihedral[-1] == []"
   ]
  },
  {
   "cell_type": "code",
   "execution_count": null,
   "metadata": {},
   "outputs": [],
   "source": [
    "avg_energy_per_dihedral = [] # saving average energy per dihedral for all conformers\n",
    "\n",
    "for i in energies_per_dihedral: \n",
    "    avg_energy_per_dihedral.append(np.mean(i))\n",
    "\n",
    "avg_energy_per_dihedral"
   ]
  },
  {
   "cell_type": "code",
   "execution_count": null,
   "metadata": {},
   "outputs": [],
   "source": [
    "# normalise average energy\n",
    "\n",
    "norm_avg_energy_per_dihedral = []\n",
    "\n",
    "for enrg in avg_energy_per_dihedral[1:]: # usually my -180 never gets scanned so omit\n",
    "    norm_avg_energy_per_dihedral.append(enrg-np.min(avg_energy_per_dihedral[1:]))\n",
    "\n",
    "len(norm_avg_energy_per_dihedral)\n",
    "norm_avg_energy_per_dihedral"
   ]
  },
  {
   "cell_type": "code",
   "execution_count": null,
   "metadata": {},
   "outputs": [],
   "source": [
    "# we need to subtract this array from the QM profile\n",
    "\n",
    "np.save('../profiles_torsions/individual_conformer_scans/fragment%s/torsion%s/torsion%s_seed%s_mm.npy' % (fragment, dihedral, dihedral, seed_no), norm_avg_energy_per_dihedral)"
   ]
  },
  {
   "cell_type": "code",
   "execution_count": null,
   "metadata": {},
   "outputs": [],
   "source": [
    "idx = 0\n",
    "\n",
    "for i in norm_avg_energy_per_dihedral:\n",
    "    plt.plot(forward[idx], i, marker='o', linestyle='None', color='blue')\n",
    "    idx+=1\n",
    "plt.xlabel('Dihedral Angle (degrees)')\n",
    "plt.ylabel('Total Energy - Torsion Energy (kcal/mol)')\n",
    "plt.savefig('../profiles_torsions/individual_conformer_scans/fragment%s/torsion%s/mm_total_energy_minus_torsion%s_seed%s.png' % (fragment, dihedral, dihedral, seed_no))"
   ]
  }
 ],
 "metadata": {
  "kernelspec": {
   "display_name": "openbiosim",
   "language": "python",
   "name": "python3"
  },
  "language_info": {
   "codemirror_mode": {
    "name": "ipython",
    "version": 3
   },
   "file_extension": ".py",
   "mimetype": "text/x-python",
   "name": "python",
   "nbconvert_exporter": "python",
   "pygments_lexer": "ipython3",
   "version": "3.11.7"
  }
 },
 "nbformat": 4,
 "nbformat_minor": 2
}
