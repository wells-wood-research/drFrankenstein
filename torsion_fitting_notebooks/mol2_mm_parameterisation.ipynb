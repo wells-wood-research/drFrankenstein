{
 "cells": [
  {
   "cell_type": "code",
   "execution_count": null,
   "metadata": {},
   "outputs": [],
   "source": [
    "import glob\n",
    "import os\n",
    "import re"
   ]
  },
  {
   "cell_type": "code",
   "execution_count": null,
   "metadata": {},
   "outputs": [],
   "source": [
    "seed_no = 4"
   ]
  },
  {
   "cell_type": "code",
   "execution_count": null,
   "metadata": {},
   "outputs": [],
   "source": [
    "dihedral = ['8345'] # list for combining torsions of the same type as needed\n",
    "fragment = ['4']"
   ]
  },
  {
   "cell_type": "code",
   "execution_count": null,
   "metadata": {},
   "outputs": [],
   "source": [
    "# process mol2 files to rename atom types as gaff2 sometimes assigns weird atom types\n",
    "# also changing the atom type of the CA from c3 (gaff2) to CX \n",
    "\n",
    "def process_mol2_file(input_file, output_file):\n",
    "    \"\"\"\n",
    "    Processes a single .mol2 file to rename specific atom types while preserving formatting.\n",
    "\n",
    "    Args:\n",
    "        input_file (str): Path to the input .mol2 file.\n",
    "        output_file (str): Path to save the modified .mol2 file.\n",
    "    \"\"\"\n",
    "    with open(input_file, 'r') as infile:\n",
    "        lines = infile.readlines()\n",
    "\n",
    "    updated_lines = []\n",
    "    in_atom_section = False\n",
    "\n",
    "    for line in lines:\n",
    "        if line.strip() == \"@<TRIPOS>ATOM\":\n",
    "            in_atom_section = True\n",
    "        elif line.strip() == \"@<TRIPOS>BOND\":\n",
    "            in_atom_section = False\n",
    "\n",
    "        if in_atom_section and line.strip() and not line.startswith(\"@<TRIPOS>\"):\n",
    "            # example that replaces the atom type of C2 (the CA) to CX\n",
    "            if re.search(r'\\sC3\\s', line):\n",
    "                line = re.sub(r'(\\s)c3(\\s)', r'\\1CX\\2', line)\n",
    "            line = re.sub(r'(\\s)os(\\s)', r'\\1o \\2', line)\n",
    "            line = re.sub(r'(\\s)n7(\\s)', r'\\1ns\\2', line)\n",
    "            line = re.sub(r'(\\s)h1(\\s)', r'\\1hc\\2', line)\n",
    "\n",
    "        updated_lines.append(line)\n",
    "\n",
    "    with open(output_file, 'w') as outfile:\n",
    "        outfile.writelines(updated_lines)\n",
    "\n",
    "\n",
    "def batch_process_mol2_files(input_dir):\n",
    "    \"\"\"\n",
    "    Batch processes all .mol2 files in a directory.\n",
    "\n",
    "    Args:\n",
    "        input_dir (str): Directory containing input .mol2 files.\n",
    "    \"\"\"\n",
    "    for filename in os.listdir(input_dir):\n",
    "        if filename.endswith(\".mol2\"):\n",
    "            input_file = os.path.join(input_dir, filename)\n",
    "            output_file = os.path.join(input_dir, f\"{os.path.splitext(filename)[0]}_atomtypes_renamed.mol2\")\n",
    "            print(f\"Processing {input_file} -> {output_file}\")\n",
    "            process_mol2_file(input_file, output_file)\n",
    "\n",
    "\n",
    "input_directory = \"../profiles_torsions/optimised_geometries/fragment4/torsion2345/\" \n",
    "batch_process_mol2_files(input_directory) # process all mol2 files from the QM scans"
   ]
  },
  {
   "cell_type": "code",
   "execution_count": null,
   "metadata": {},
   "outputs": [],
   "source": [
    "file_list = []\n",
    "\n",
    "for frag in fragment:\n",
    "    for dih in dihedral:\n",
    "        file_pattern = '../profiles_torsions/optimised_geometries/fragment%s/torsion%s/torsion%s_seed%s_conf*_resp_charges_atomtypes_renamed.mol2' % (frag, dih, dih, seed_no)\n",
    "\n",
    "        file_list.extend(glob.glob(file_pattern))\n",
    "\n",
    "file_list"
   ]
  },
  {
   "cell_type": "code",
   "execution_count": null,
   "metadata": {},
   "outputs": [],
   "source": [
    "# create prmtop and inpcrd files for all mol2 files\n",
    "\n",
    "for fle in file_list:\n",
    "    tleapinput = open(\"tleap.in\", \"w\")\n",
    "    tleapinput.write(f\"mol  = loadmol2 {fle} \\n\")\n",
    "    tleapinput.write(\"loadamberparams ../frcmod_files/R8-S5_alanine/R8-S5_alanine_gaff2.frcmod \\n\") # use frcmod previously made\n",
    "    # this frcmod will need to be updated after each torsion fit, so the next batch of mol2 are parameterised with the updated file\n",
    "    tleapinput.write(f\"saveamberparm mol {fle}.prmtop {fle}.inpcrd  \\n\")\n",
    "    tleapinput.write(\"quit\")\n",
    "    tleapinput.close()\n",
    "\n",
    "    os.system(\"tleap -f tleap.in\")\n"
   ]
  }
 ],
 "metadata": {
  "kernelspec": {
   "display_name": "qm_resp_3.8",
   "language": "python",
   "name": "python3"
  },
  "language_info": {
   "codemirror_mode": {
    "name": "ipython",
    "version": 3
   },
   "file_extension": ".py",
   "mimetype": "text/x-python",
   "name": "python",
   "nbconvert_exporter": "python",
   "pygments_lexer": "ipython3",
   "version": "3.8.17"
  }
 },
 "nbformat": 4,
 "nbformat_minor": 2
}
